{
    "metadata": {
        "kernelspec": {
            "name": "SQL",
            "display_name": "SQL",
            "language": "sql"
        },
        "language_info": {
            "name": "sql",
            "version": ""
        }
    },
    "nbformat_minor": 2,
    "nbformat": 4,
    "cells": [
        {
            "cell_type": "code",
            "source": [
                "-- 1. feladat\r\n",
                "SELECT v.nev, v.email, v.usernev\r\n",
                "From vendeg v JOIN Foglalas f ON v.usernev = f.UGYFEL_FK\r\n",
                "WHERE MONTH(v.SZUL_DAT) != 5\r\n",
                "GROUP by v.nev, v.email, v.usernev\r\n",
                "HAVING COUNT(*) > 1\r\n",
                ""
            ],
            "metadata": {
                "azdata_cell_guid": "3cd4932a-e310-4281-95c5-3f8495cbcf13",
                "language": "sql"
            },
            "outputs": [
                {
                    "output_type": "display_data",
                    "data": {
                        "text/html": "(169 rows affected)"
                    },
                    "metadata": {}
                },
                {
                    "output_type": "display_data",
                    "data": {
                        "text/html": "Total execution time: 00:00:00.015"
                    },
                    "metadata": {}
                },
                {
                    "output_type": "execute_result",
                    "metadata": {},
                    "execution_count": 13,
                    "data": {
                        "application/vnd.dataresource+json": {
                            "schema": {
                                "fields": [
                                    {
                                        "name": "nev"
                                    },
                                    {
                                        "name": "email"
                                    },
                                    {
                                        "name": "usernev"
                                    }
                                ]
                            },
                            "data": [
                                {
                                    "nev": "Kiss Ádám",
                                    "email": "ádám.kiss@mail.hu",
                                    "usernev": "adam1"
                                },
                                {
                                    "nev": "Barkóci Ádám",
                                    "email": "adam3@gmail.com",
                                    "usernev": "adam3"
                                },
                                {
                                    "nev": "Bieniek Ádám",
                                    "email": "ádám.bieniek@mail.hu",
                                    "usernev": "adam4"
                                },
                                {
                                    "nev": "Lengyel Ágnes",
                                    "email": "agnes@gmail.com",
                                    "usernev": "agnes"
                                },
                                {
                                    "nev": "Hartyánszky Ágnes",
                                    "email": "agnes3@gmail.com",
                                    "usernev": "agnes3"
                                },
                                {
                                    "nev": "Horváth Ágnes",
                                    "email": "AGNESH@gmail.com",
                                    "usernev": "AGNESH"
                                },
                                {
                                    "nev": "Kovács Ágnes",
                                    "email": "AGNESK@gmail.com",
                                    "usernev": "AGNESK"
                                },
                                {
                                    "nev": "Bíró Ákos",
                                    "email": "ákos.bíró@mail.hu",
                                    "usernev": "akos"
                                },
                                {
                                    "nev": "Dunai Aladár",
                                    "email": "aladár.dunai@mail.hu",
                                    "usernev": "aladar"
                                },
                                {
                                    "nev": "Bagóczki Alexandra",
                                    "email": "alexandra.bagóczki@mail.hu",
                                    "usernev": "alexandra"
                                },
                                {
                                    "nev": "Tóth András",
                                    "email": "andrás.tóth@mail.hu",
                                    "usernev": "andras2"
                                },
                                {
                                    "nev": "Molnár András",
                                    "email": "andrás.molnár@mail.hu",
                                    "usernev": "andras21"
                                },
                                {
                                    "nev": "Vígh András",
                                    "email": "andrás.vígh@mail.hu",
                                    "usernev": "andras3"
                                },
                                {
                                    "nev": "Back András",
                                    "email": "andras4@gmail.com",
                                    "usernev": "andras4"
                                },
                                {
                                    "nev": "Komjáti András",
                                    "email": "andras41@gmail.com",
                                    "usernev": "andras41"
                                },
                                {
                                    "nev": "Kiss Andrea",
                                    "email": "andrea.kiss@mail.hu",
                                    "usernev": "andrea"
                                },
                                {
                                    "nev": "Tornyos Andrea",
                                    "email": "ANDREAT@gmail.com",
                                    "usernev": "ANDREAT"
                                },
                                {
                                    "nev": "Pivarcsi Anett",
                                    "email": "anett.pivarcsi@mail.hu",
                                    "usernev": "anett3"
                                },
                                {
                                    "nev": "Tóth Anikó",
                                    "email": "aniko@gmail.com",
                                    "usernev": "aniko"
                                },
                                {
                                    "nev": "Böröcz Anikó",
                                    "email": "aniko4@gmail.com",
                                    "usernev": "aniko4"
                                },
                                {
                                    "nev": "Simon Anikó",
                                    "email": "ANIKOS@gmail.com",
                                    "usernev": "ANIKOS"
                                },
                                {
                                    "nev": "Hamvay-Kovács Anita",
                                    "email": "anita.hamvay-kovács@mail.hu",
                                    "usernev": "anita"
                                },
                                {
                                    "nev": "Szűcs Annamária",
                                    "email": "annamária.szűcs@mail.hu",
                                    "usernev": "annamaria1"
                                },
                                {
                                    "nev": "Regős Annamária",
                                    "email": "ANNAMARIAR@gmail.com",
                                    "usernev": "ANNAMARIAR"
                                },
                                {
                                    "nev": "Jakab Áron",
                                    "email": "aron2@gmail.com",
                                    "usernev": "aron2"
                                },
                                {
                                    "nev": "Kelemen Áron",
                                    "email": "áron.kelemen@mail.hu",
                                    "usernev": "ARONK"
                                },
                                {
                                    "nev": "Ötvös Árpád",
                                    "email": "árpád.ötvös@mail.hu",
                                    "usernev": "arpad2"
                                },
                                {
                                    "nev": "Móricz Árpád",
                                    "email": "árpád.móricz@mail.hu",
                                    "usernev": "ARPADM"
                                },
                                {
                                    "nev": "Csóti Attila",
                                    "email": "attila@gmail.com",
                                    "usernev": "attila"
                                },
                                {
                                    "nev": "Gulyás Attila",
                                    "email": "attila.gulyás@mail.hu",
                                    "usernev": "attila1"
                                },
                                {
                                    "nev": "Baróti Attila",
                                    "email": "attila.baróti@mail.hu",
                                    "usernev": "attila4"
                                },
                                {
                                    "nev": "Bozsik Balázs",
                                    "email": "balázs.bozsik@mail.hu",
                                    "usernev": "balazs1"
                                },
                                {
                                    "nev": "Szűcs Balázs",
                                    "email": "balázs.szűcs@mail.hu",
                                    "usernev": "balazs2"
                                },
                                {
                                    "nev": "Bakódy Balázs",
                                    "email": "balazs3@gmail.com",
                                    "usernev": "balazs3"
                                },
                                {
                                    "nev": "Horváth Bálint",
                                    "email": "balint@gmail.com",
                                    "usernev": "balint"
                                },
                                {
                                    "nev": "Molnár Bálint",
                                    "email": "balint1@gmail.com",
                                    "usernev": "balint1"
                                },
                                {
                                    "nev": "Vukasinovity Bálint",
                                    "email": "balint2@gmail.com",
                                    "usernev": "balint2"
                                },
                                {
                                    "nev": "Endresz Bálint",
                                    "email": "bálint.endresz@mail.hu",
                                    "usernev": "balu"
                                },
                                {
                                    "nev": "Bagi Beáta",
                                    "email": "beáta.bagi@mail.hu",
                                    "usernev": "beata4"
                                },
                                {
                                    "nev": "Kerényi Beatrix",
                                    "email": "beatrix.kerényi@mail.hu",
                                    "usernev": "BEATRIXK"
                                },
                                {
                                    "nev": "Szekendi Beatrix",
                                    "email": "beatrix.szekendi@mail.hu",
                                    "usernev": "BEATRIXS"
                                },
                                {
                                    "nev": "Farkas Béla",
                                    "email": "BELAF@gmail.com",
                                    "usernev": "BELAF"
                                },
                                {
                                    "nev": "Győrffy Bence",
                                    "email": "bence@gmail.com",
                                    "usernev": "bence"
                                },
                                {
                                    "nev": "Bajusz Bence",
                                    "email": "bence.bajusz@mail.hu",
                                    "usernev": "BENCEB"
                                },
                                {
                                    "nev": "Simon Bernadett",
                                    "email": "bernadett1@gmail.com",
                                    "usernev": "bernadett1"
                                },
                                {
                                    "nev": "Kovács Bernadett",
                                    "email": "bernadett.kovács@mail.hu",
                                    "usernev": "bernadett2"
                                },
                                {
                                    "nev": "Orbán Bernadett",
                                    "email": "bernadett.orbán@mail.hu",
                                    "usernev": "BERNADETTO"
                                },
                                {
                                    "nev": "Csiger Bertalan",
                                    "email": "bertalan@gmail.com",
                                    "usernev": "bertalan"
                                },
                                {
                                    "nev": "Székely Brigitta",
                                    "email": "brigitta.székely@mail.hu",
                                    "usernev": "brigitta"
                                },
                                {
                                    "nev": "Nagymihály Csongor",
                                    "email": "csongor.nagymihály@mail.hu",
                                    "usernev": "csongor3"
                                },
                                {
                                    "nev": "Vörös Dániel",
                                    "email": "daniel@gmail.com",
                                    "usernev": "dani"
                                },
                                {
                                    "nev": "Rácz Dániel",
                                    "email": "dániel.rácz@mail.hu",
                                    "usernev": "daniel"
                                },
                                {
                                    "nev": "Keszler Dániel",
                                    "email": "dániel.keszler@mail.hu",
                                    "usernev": "daniel1"
                                },
                                {
                                    "nev": "Ambrus Dávid",
                                    "email": "david@gmail.com",
                                    "usernev": "david"
                                },
                                {
                                    "nev": "Sobják Dávid",
                                    "email": "david1@gmail.com",
                                    "usernev": "david1"
                                },
                                {
                                    "nev": "Barna Debóra",
                                    "email": "debóra.barna@mail.hu",
                                    "usernev": "debora"
                                },
                                {
                                    "nev": "Tömböly Dénes",
                                    "email": "denes@gmail.com",
                                    "usernev": "denes"
                                },
                                {
                                    "nev": "Bittmann Edit",
                                    "email": "edit.bittmann@mail.hu",
                                    "usernev": "edit"
                                },
                                {
                                    "nev": "Kuruc Emese",
                                    "email": "emese.kuruc@mail.hu",
                                    "usernev": "emese"
                                },
                                {
                                    "nev": "Balogh Eszter",
                                    "email": "eszter.balogh@mail.hu",
                                    "usernev": "eszter2"
                                },
                                {
                                    "nev": "Fülöp Eszter",
                                    "email": "eszter.fülöp@mail.hu",
                                    "usernev": "eszter4"
                                },
                                {
                                    "nev": "Érsek Eszter",
                                    "email": "eszter.érsek@mail.hu",
                                    "usernev": "ESZTERE"
                                },
                                {
                                    "nev": "Enyedi Éva",
                                    "email": "eva@gmail.com",
                                    "usernev": "eva"
                                },
                                {
                                    "nev": "Perlinger Éva",
                                    "email": "eva2@gmail.com",
                                    "usernev": "eva2"
                                },
                                {
                                    "nev": "Viktor Éva",
                                    "email": "EVAV@gmail.com",
                                    "usernev": "EVAV"
                                },
                                {
                                    "nev": "Orosz Ferenc",
                                    "email": "ferenc.orosz@mail.hu",
                                    "usernev": "ferenc1"
                                },
                                {
                                    "nev": "Frank Fruzsina",
                                    "email": "fruzsina4@gmail.com",
                                    "usernev": "fruzsina4"
                                },
                                {
                                    "nev": "Köves Gábor",
                                    "email": "gabor1@gmail.com",
                                    "usernev": "gabor1"
                                },
                                {
                                    "nev": "Telek Gábor",
                                    "email": "gábor.telek@mail.hu",
                                    "usernev": "gabor4"
                                },
                                {
                                    "nev": "Nagy Gabriella",
                                    "email": "gabriella1@gmail.com",
                                    "usernev": "gabriella1"
                                },
                                {
                                    "nev": "Nyíri Georgij",
                                    "email": "georgij.nyíri@mail.hu",
                                    "usernev": "georgij"
                                },
                                {
                                    "nev": "Bárci Gusztáv",
                                    "email": "gusztav@gmail.com",
                                    "usernev": "gusztav"
                                },
                                {
                                    "nev": "Kornseé Gyöngyi",
                                    "email": "gyöngyi.kornseé@mail.hu",
                                    "usernev": "GYONGYIK"
                                },
                                {
                                    "nev": "Oroszi György",
                                    "email": "GYORGYO@gmail.com",
                                    "usernev": "GYORGYO"
                                },
                                {
                                    "nev": "Nádudvari Henrik",
                                    "email": "henrik.nádudvari@mail.hu",
                                    "usernev": "henrik3"
                                },
                                {
                                    "nev": "Andor Ibolya",
                                    "email": "ibolya.andor@mail.hu",
                                    "usernev": "IBOLYAA"
                                },
                                {
                                    "nev": "Bosnyák Ilona",
                                    "email": "ilona3@gmail.com",
                                    "usernev": "ilona3"
                                },
                                {
                                    "nev": "Búza Imre",
                                    "email": "imre.búza@mail.hu",
                                    "usernev": "imre"
                                },
                                {
                                    "nev": "Papp Imre",
                                    "email": "imre.papp@mail.hu",
                                    "usernev": "imre1"
                                },
                                {
                                    "nev": "Soós István",
                                    "email": "istvan@gmail.com",
                                    "usernev": "istvan"
                                },
                                {
                                    "nev": "Vizi István",
                                    "email": "istván.vizi@mail.hu",
                                    "usernev": "istvan1"
                                },
                                {
                                    "nev": "Varga István",
                                    "email": "ISTVANV@gmail.com",
                                    "usernev": "ISTVANV"
                                },
                                {
                                    "nev": "Harangozó János",
                                    "email": "janos3@gmail.com",
                                    "usernev": "janos3"
                                },
                                {
                                    "nev": "Giliga János",
                                    "email": "JANOSG@gmail.com",
                                    "usernev": "JANOSG"
                                },
                                {
                                    "nev": "Pálinkás János",
                                    "email": "JANOSP@gmail.com",
                                    "usernev": "JANOSP"
                                },
                                {
                                    "nev": "Gergely József",
                                    "email": "jozsef@gmail.com",
                                    "usernev": "jozsef"
                                },
                                {
                                    "nev": "Vajda József",
                                    "email": "józsef.vajda@mail.hu",
                                    "usernev": "jozsef2"
                                },
                                {
                                    "nev": "Hídasi Judit",
                                    "email": "JUDITH@gmail.com",
                                    "usernev": "JUDITH"
                                },
                                {
                                    "nev": "Tóth Júlia",
                                    "email": "julia@gmail.com",
                                    "usernev": "julia"
                                },
                                {
                                    "nev": "Nagy Júlia",
                                    "email": "julia4@gmail.com",
                                    "usernev": "julia4"
                                },
                                {
                                    "nev": "Szabó Julianna",
                                    "email": "julianna4@gmail.com",
                                    "usernev": "julianna4"
                                },
                                {
                                    "nev": "Gondos Katalin",
                                    "email": "katalin.gondos@mail.hu",
                                    "usernev": "kata"
                                },
                                {
                                    "nev": "Horváth Katalin",
                                    "email": "katalin.horváth@mail.hu",
                                    "usernev": "katalin"
                                },
                                {
                                    "nev": "Kertész Katalin",
                                    "email": "katalin4@gmail.com",
                                    "usernev": "katalin4"
                                },
                                {
                                    "nev": "Kovács Katalin",
                                    "email": "katalin.kovács@mail.hu",
                                    "usernev": "katka"
                                },
                                {
                                    "nev": "Bakó Klaudia",
                                    "email": "klaudia.bakó@mail.hu",
                                    "usernev": "klaudia2"
                                },
                                {
                                    "nev": "Lukács Kornél",
                                    "email": "kornél.lukács@mail.hu",
                                    "usernev": "kornel4"
                                },
                                {
                                    "nev": "Poprádi Kristóf",
                                    "email": "kristof4@gmail.com",
                                    "usernev": "kristof4"
                                },
                                {
                                    "nev": "Horváth Krisztina",
                                    "email": "kriszti@gmail.com",
                                    "usernev": "kriszti"
                                },
                                {
                                    "nev": "Czérna Krisztián",
                                    "email": "krisztián.czérna@mail.hu",
                                    "usernev": "krisztian4"
                                },
                                {
                                    "nev": "Bori Krisztina",
                                    "email": "krisztina.bori@mail.hu",
                                    "usernev": "krisztina1"
                                },
                                {
                                    "nev": "Gyárfás Krisztina",
                                    "email": "KRISZTINAG@gmail.com",
                                    "usernev": "KRISZTINAG"
                                },
                                {
                                    "nev": "Kiss Lajos",
                                    "email": "lajos.kiss@mail.hu",
                                    "usernev": "lajos"
                                },
                                {
                                    "nev": "Nagymihály Lajos",
                                    "email": "lajos.nagymihály@mail.hu",
                                    "usernev": "lala"
                                },
                                {
                                    "nev": "Móra László",
                                    "email": "lászló.móra@mail.hu",
                                    "usernev": "laszlo2"
                                },
                                {
                                    "nev": "Antal László",
                                    "email": "lászló.antal@mail.hu",
                                    "usernev": "LASZLOA"
                                },
                                {
                                    "nev": "Nagy László",
                                    "email": "lászló.nagy@mail.hu",
                                    "usernev": "LASZLON"
                                },
                                {
                                    "nev": "Baráth Mária",
                                    "email": "mária.baráth@mail.hu",
                                    "usernev": "maria1"
                                },
                                {
                                    "nev": "Kispál Márk",
                                    "email": "márk.kispál@mail.hu",
                                    "usernev": "mark"
                                },
                                {
                                    "nev": "Horváth Márk",
                                    "email": "márk.horváth@mail.hu",
                                    "usernev": "MARKH"
                                },
                                {
                                    "nev": "Kalacsi Márton",
                                    "email": "marton@gmail.com",
                                    "usernev": "marton"
                                },
                                {
                                    "nev": "Koza Máté",
                                    "email": "máté.koza@mail.hu",
                                    "usernev": "MATEK"
                                },
                                {
                                    "nev": "Botka Mátyás",
                                    "email": "matyas2@gmail.com",
                                    "usernev": "matyas2"
                                },
                                {
                                    "nev": "Szilágyi Mátyás",
                                    "email": "mátyás.szilágyi@mail.hu",
                                    "usernev": "MATYASS"
                                },
                                {
                                    "nev": "Juhász Mihály",
                                    "email": "mihály.juhász@mail.hu",
                                    "usernev": "MIHALYJ"
                                },
                                {
                                    "nev": "Gondos Miklós",
                                    "email": "miklos2@gmail.com",
                                    "usernev": "miklos2"
                                },
                                {
                                    "nev": "Balla Miklós",
                                    "email": "miklós.balla@mail.hu",
                                    "usernev": "MIKLOSB"
                                },
                                {
                                    "nev": "Mohos Mónika",
                                    "email": "mónika.mohos@mail.hu",
                                    "usernev": "MONIKAM"
                                },
                                {
                                    "nev": "Fő Nándor",
                                    "email": "nándor.fő@mail.hu",
                                    "usernev": "NANDORF"
                                },
                                {
                                    "nev": "Horváth Nikolett",
                                    "email": "nikolett3@gmail.com",
                                    "usernev": "nikolett3"
                                },
                                {
                                    "nev": "Kő Nikoletta",
                                    "email": "nikoletta4@gmail.com",
                                    "usernev": "nikoletta4"
                                },
                                {
                                    "nev": "Tatár Nikoletta",
                                    "email": "nikoletta.tatár@mail.hu",
                                    "usernev": "NIKOLETTAT"
                                },
                                {
                                    "nev": "Szűcs Norbert",
                                    "email": "norbert@gmail.com",
                                    "usernev": "norbert"
                                },
                                {
                                    "nev": "Hegedűs Norbert",
                                    "email": "norbert.hegedűs@mail.hu",
                                    "usernev": "norbert2"
                                },
                                {
                                    "nev": "Mile Norbert",
                                    "email": "norbert4@gmail.com",
                                    "usernev": "norbert4"
                                },
                                {
                                    "nev": "Béres Norbert",
                                    "email": "norbert5@gmail.com",
                                    "usernev": "norbert5"
                                },
                                {
                                    "nev": "Barabás Pál",
                                    "email": "pál.barabás@mail.hu",
                                    "usernev": "pal"
                                },
                                {
                                    "nev": "Kozma Péter",
                                    "email": "peter1@gmail.com",
                                    "usernev": "peter1"
                                },
                                {
                                    "nev": "Bozsó Péter",
                                    "email": "peter2@gmail.com",
                                    "usernev": "peter2"
                                },
                                {
                                    "nev": "Szalai Péter",
                                    "email": "peter3@gmail.com",
                                    "usernev": "peter3"
                                },
                                {
                                    "nev": "Bíró Péter",
                                    "email": "péter.bíró@mail.hu",
                                    "usernev": "peter4"
                                },
                                {
                                    "nev": "Berendi Péter",
                                    "email": "péter.berendi@mail.hu",
                                    "usernev": "PETERB"
                                },
                                {
                                    "nev": "Palágyi Polla",
                                    "email": "polla@gmail.com",
                                    "usernev": "polla"
                                },
                                {
                                    "nev": "Rácz Rajmond",
                                    "email": "rajmond.rácz@mail.hu",
                                    "usernev": "rajmond4"
                                },
                                {
                                    "nev": "Szikszai Réka",
                                    "email": "réka.szikszai@mail.hu",
                                    "usernev": "reka4"
                                },
                                {
                                    "nev": "Szirmai Renáta",
                                    "email": "RENATAS@gmail.com",
                                    "usernev": "RENATAS"
                                },
                                {
                                    "nev": "Patay Róbert",
                                    "email": "robert2@gmail.com",
                                    "usernev": "robert2"
                                },
                                {
                                    "nev": "Iván Róbert",
                                    "email": "róbert.iván@mail.hu",
                                    "usernev": "ROBERTI"
                                },
                                {
                                    "nev": "Tóth Roland",
                                    "email": "roland@gmail.com",
                                    "usernev": "roland"
                                },
                                {
                                    "nev": "Ferencz Roland",
                                    "email": "roland.ferencz@mail.hu",
                                    "usernev": "roland1"
                                },
                                {
                                    "nev": "Bucskó Róza",
                                    "email": "roza2@gmail.com",
                                    "usernev": "roza2"
                                },
                                {
                                    "nev": "Karasz Sándor",
                                    "email": "sandor@gmail.com",
                                    "usernev": "sandor"
                                },
                                {
                                    "nev": "Farkas Sándor",
                                    "email": "sándor.farkas@mail.hu",
                                    "usernev": "sandor3"
                                },
                                {
                                    "nev": "Nagy Sándor",
                                    "email": "sandor4@gmail.com",
                                    "usernev": "sandor4"
                                },
                                {
                                    "nev": "Farkas Sára",
                                    "email": "sára.farkas@mail.hu",
                                    "usernev": "sara"
                                },
                                {
                                    "nev": "Foltényi Sebastián",
                                    "email": "SEBASTIANF@gmail.com",
                                    "usernev": "SEBASTIANF"
                                },
                                {
                                    "nev": "Rab Sebestyén",
                                    "email": "sebestyen@gmail.com",
                                    "usernev": "sebestyen"
                                },
                                {
                                    "nev": "Miklós Szabolcs",
                                    "email": "szabolcs.miklós@mail.hu",
                                    "usernev": "SZABOLCSM"
                                },
                                {
                                    "nev": "Szalai Szilárd",
                                    "email": "szilárd.szalai@mail.hu",
                                    "usernev": "SZILARDS"
                                },
                                {
                                    "nev": "Tari Szilvia",
                                    "email": "szilvia.tari@mail.hu",
                                    "usernev": "szilvia1"
                                },
                                {
                                    "nev": "Miklós Tamara",
                                    "email": "tamara.miklós@mail.hu",
                                    "usernev": "tamara2"
                                },
                                {
                                    "nev": "Antal Tamás",
                                    "email": "tamás.antal@mail.hu",
                                    "usernev": "tamas"
                                },
                                {
                                    "nev": "Fényes Tamás",
                                    "email": "TAMASF@gmail.com",
                                    "usernev": "TAMASF"
                                },
                                {
                                    "nev": "Gombos Tibor",
                                    "email": "tibor.gombos@mail.hu",
                                    "usernev": "tibor"
                                },
                                {
                                    "nev": "Kazy Tihamér",
                                    "email": "tihamér.kazy@mail.hu",
                                    "usernev": "tihamer"
                                },
                                {
                                    "nev": "Dusha Tímea",
                                    "email": "tímea.dusha@mail.hu",
                                    "usernev": "timea2"
                                },
                                {
                                    "nev": "Turcsik Tünde",
                                    "email": "tunde@gmail.com",
                                    "usernev": "tunde"
                                },
                                {
                                    "nev": "Feró Valentin",
                                    "email": "valentin.feró@mail.hu",
                                    "usernev": "valentin"
                                },
                                {
                                    "nev": "Tankó Veronika",
                                    "email": "veronika4@gmail.com",
                                    "usernev": "veronika4"
                                },
                                {
                                    "nev": "Boros Vivien",
                                    "email": "vivien3@gmail.com",
                                    "usernev": "vivien3"
                                },
                                {
                                    "nev": "Fodor Zoltán",
                                    "email": "zoltán.fodor@mail.hu",
                                    "usernev": "zoltan"
                                },
                                {
                                    "nev": "Pintér Zoltán",
                                    "email": "zoltán.pintér@mail.hu",
                                    "usernev": "ZOLTANP"
                                },
                                {
                                    "nev": "Tóth Zoltán",
                                    "email": "zoltán.tóth@mail.hu",
                                    "usernev": "ZOLTANT"
                                },
                                {
                                    "nev": "Molnár Zsófi",
                                    "email": "zsofi1@gmail.com",
                                    "usernev": "zsofi1"
                                },
                                {
                                    "nev": "Józsa Zsolt",
                                    "email": "ZSOLTJ@gmail.com",
                                    "usernev": "ZSOLTJ"
                                },
                                {
                                    "nev": "Pusztai Zsuzsanna",
                                    "email": "zsuzsanna@gmail.com",
                                    "usernev": "zsuzsa"
                                },
                                {
                                    "nev": "Varsányi Zsuzsa",
                                    "email": "zsuzsa.varsányi@mail.hu",
                                    "usernev": "zsuzsa3"
                                },
                                {
                                    "nev": "Barta Zsuzsanna",
                                    "email": "zsuzsanna.barta@mail.hu",
                                    "usernev": "zsuzsanna"
                                },
                                {
                                    "nev": "Vajda Zsuzsa",
                                    "email": "zsuzsa.vajda@mail.hu",
                                    "usernev": "ZSUZSAV"
                                }
                            ]
                        },
                        "text/html": [
                            "<table>",
                            "<tr><th>nev</th><th>email</th><th>usernev</th></tr>",
                            "<tr><td>Kiss Ádám</td><td>ádám.kiss@mail.hu</td><td>adam1</td></tr>",
                            "<tr><td>Barkóci Ádám</td><td>adam3@gmail.com</td><td>adam3</td></tr>",
                            "<tr><td>Bieniek Ádám</td><td>ádám.bieniek@mail.hu</td><td>adam4</td></tr>",
                            "<tr><td>Lengyel Ágnes</td><td>agnes@gmail.com</td><td>agnes</td></tr>",
                            "<tr><td>Hartyánszky Ágnes</td><td>agnes3@gmail.com</td><td>agnes3</td></tr>",
                            "<tr><td>Horváth Ágnes</td><td>AGNESH@gmail.com</td><td>AGNESH</td></tr>",
                            "<tr><td>Kovács Ágnes</td><td>AGNESK@gmail.com</td><td>AGNESK</td></tr>",
                            "<tr><td>Bíró Ákos</td><td>ákos.bíró@mail.hu</td><td>akos</td></tr>",
                            "<tr><td>Dunai Aladár</td><td>aladár.dunai@mail.hu</td><td>aladar</td></tr>",
                            "<tr><td>Bagóczki Alexandra</td><td>alexandra.bagóczki@mail.hu</td><td>alexandra</td></tr>",
                            "<tr><td>Tóth András</td><td>andrás.tóth@mail.hu</td><td>andras2</td></tr>",
                            "<tr><td>Molnár András</td><td>andrás.molnár@mail.hu</td><td>andras21</td></tr>",
                            "<tr><td>Vígh András</td><td>andrás.vígh@mail.hu</td><td>andras3</td></tr>",
                            "<tr><td>Back András</td><td>andras4@gmail.com</td><td>andras4</td></tr>",
                            "<tr><td>Komjáti András</td><td>andras41@gmail.com</td><td>andras41</td></tr>",
                            "<tr><td>Kiss Andrea</td><td>andrea.kiss@mail.hu</td><td>andrea</td></tr>",
                            "<tr><td>Tornyos Andrea</td><td>ANDREAT@gmail.com</td><td>ANDREAT</td></tr>",
                            "<tr><td>Pivarcsi Anett</td><td>anett.pivarcsi@mail.hu</td><td>anett3</td></tr>",
                            "<tr><td>Tóth Anikó</td><td>aniko@gmail.com</td><td>aniko</td></tr>",
                            "<tr><td>Böröcz Anikó</td><td>aniko4@gmail.com</td><td>aniko4</td></tr>",
                            "<tr><td>Simon Anikó</td><td>ANIKOS@gmail.com</td><td>ANIKOS</td></tr>",
                            "<tr><td>Hamvay-Kovács Anita</td><td>anita.hamvay-kovács@mail.hu</td><td>anita</td></tr>",
                            "<tr><td>Szűcs Annamária</td><td>annamária.szűcs@mail.hu</td><td>annamaria1</td></tr>",
                            "<tr><td>Regős Annamária</td><td>ANNAMARIAR@gmail.com</td><td>ANNAMARIAR</td></tr>",
                            "<tr><td>Jakab Áron</td><td>aron2@gmail.com</td><td>aron2</td></tr>",
                            "<tr><td>Kelemen Áron</td><td>áron.kelemen@mail.hu</td><td>ARONK</td></tr>",
                            "<tr><td>Ötvös Árpád</td><td>árpád.ötvös@mail.hu</td><td>arpad2</td></tr>",
                            "<tr><td>Móricz Árpád</td><td>árpád.móricz@mail.hu</td><td>ARPADM</td></tr>",
                            "<tr><td>Csóti Attila</td><td>attila@gmail.com</td><td>attila</td></tr>",
                            "<tr><td>Gulyás Attila</td><td>attila.gulyás@mail.hu</td><td>attila1</td></tr>",
                            "<tr><td>Baróti Attila</td><td>attila.baróti@mail.hu</td><td>attila4</td></tr>",
                            "<tr><td>Bozsik Balázs</td><td>balázs.bozsik@mail.hu</td><td>balazs1</td></tr>",
                            "<tr><td>Szűcs Balázs</td><td>balázs.szűcs@mail.hu</td><td>balazs2</td></tr>",
                            "<tr><td>Bakódy Balázs</td><td>balazs3@gmail.com</td><td>balazs3</td></tr>",
                            "<tr><td>Horváth Bálint</td><td>balint@gmail.com</td><td>balint</td></tr>",
                            "<tr><td>Molnár Bálint</td><td>balint1@gmail.com</td><td>balint1</td></tr>",
                            "<tr><td>Vukasinovity Bálint</td><td>balint2@gmail.com</td><td>balint2</td></tr>",
                            "<tr><td>Endresz Bálint</td><td>bálint.endresz@mail.hu</td><td>balu</td></tr>",
                            "<tr><td>Bagi Beáta</td><td>beáta.bagi@mail.hu</td><td>beata4</td></tr>",
                            "<tr><td>Kerényi Beatrix</td><td>beatrix.kerényi@mail.hu</td><td>BEATRIXK</td></tr>",
                            "<tr><td>Szekendi Beatrix</td><td>beatrix.szekendi@mail.hu</td><td>BEATRIXS</td></tr>",
                            "<tr><td>Farkas Béla</td><td>BELAF@gmail.com</td><td>BELAF</td></tr>",
                            "<tr><td>Győrffy Bence</td><td>bence@gmail.com</td><td>bence</td></tr>",
                            "<tr><td>Bajusz Bence</td><td>bence.bajusz@mail.hu</td><td>BENCEB</td></tr>",
                            "<tr><td>Simon Bernadett</td><td>bernadett1@gmail.com</td><td>bernadett1</td></tr>",
                            "<tr><td>Kovács Bernadett</td><td>bernadett.kovács@mail.hu</td><td>bernadett2</td></tr>",
                            "<tr><td>Orbán Bernadett</td><td>bernadett.orbán@mail.hu</td><td>BERNADETTO</td></tr>",
                            "<tr><td>Csiger Bertalan</td><td>bertalan@gmail.com</td><td>bertalan</td></tr>",
                            "<tr><td>Székely Brigitta</td><td>brigitta.székely@mail.hu</td><td>brigitta</td></tr>",
                            "<tr><td>Nagymihály Csongor</td><td>csongor.nagymihály@mail.hu</td><td>csongor3</td></tr>",
                            "<tr><td>Vörös Dániel</td><td>daniel@gmail.com</td><td>dani</td></tr>",
                            "<tr><td>Rácz Dániel</td><td>dániel.rácz@mail.hu</td><td>daniel</td></tr>",
                            "<tr><td>Keszler Dániel</td><td>dániel.keszler@mail.hu</td><td>daniel1</td></tr>",
                            "<tr><td>Ambrus Dávid</td><td>david@gmail.com</td><td>david</td></tr>",
                            "<tr><td>Sobják Dávid</td><td>david1@gmail.com</td><td>david1</td></tr>",
                            "<tr><td>Barna Debóra</td><td>debóra.barna@mail.hu</td><td>debora</td></tr>",
                            "<tr><td>Tömböly Dénes</td><td>denes@gmail.com</td><td>denes</td></tr>",
                            "<tr><td>Bittmann Edit</td><td>edit.bittmann@mail.hu</td><td>edit</td></tr>",
                            "<tr><td>Kuruc Emese</td><td>emese.kuruc@mail.hu</td><td>emese</td></tr>",
                            "<tr><td>Balogh Eszter</td><td>eszter.balogh@mail.hu</td><td>eszter2</td></tr>",
                            "<tr><td>Fülöp Eszter</td><td>eszter.fülöp@mail.hu</td><td>eszter4</td></tr>",
                            "<tr><td>Érsek Eszter</td><td>eszter.érsek@mail.hu</td><td>ESZTERE</td></tr>",
                            "<tr><td>Enyedi Éva</td><td>eva@gmail.com</td><td>eva</td></tr>",
                            "<tr><td>Perlinger Éva</td><td>eva2@gmail.com</td><td>eva2</td></tr>",
                            "<tr><td>Viktor Éva</td><td>EVAV@gmail.com</td><td>EVAV</td></tr>",
                            "<tr><td>Orosz Ferenc</td><td>ferenc.orosz@mail.hu</td><td>ferenc1</td></tr>",
                            "<tr><td>Frank Fruzsina</td><td>fruzsina4@gmail.com</td><td>fruzsina4</td></tr>",
                            "<tr><td>Köves Gábor</td><td>gabor1@gmail.com</td><td>gabor1</td></tr>",
                            "<tr><td>Telek Gábor</td><td>gábor.telek@mail.hu</td><td>gabor4</td></tr>",
                            "<tr><td>Nagy Gabriella</td><td>gabriella1@gmail.com</td><td>gabriella1</td></tr>",
                            "<tr><td>Nyíri Georgij</td><td>georgij.nyíri@mail.hu</td><td>georgij</td></tr>",
                            "<tr><td>Bárci Gusztáv</td><td>gusztav@gmail.com</td><td>gusztav</td></tr>",
                            "<tr><td>Kornseé Gyöngyi</td><td>gyöngyi.kornseé@mail.hu</td><td>GYONGYIK</td></tr>",
                            "<tr><td>Oroszi György</td><td>GYORGYO@gmail.com</td><td>GYORGYO</td></tr>",
                            "<tr><td>Nádudvari Henrik</td><td>henrik.nádudvari@mail.hu</td><td>henrik3</td></tr>",
                            "<tr><td>Andor Ibolya</td><td>ibolya.andor@mail.hu</td><td>IBOLYAA</td></tr>",
                            "<tr><td>Bosnyák Ilona</td><td>ilona3@gmail.com</td><td>ilona3</td></tr>",
                            "<tr><td>Búza Imre</td><td>imre.búza@mail.hu</td><td>imre</td></tr>",
                            "<tr><td>Papp Imre</td><td>imre.papp@mail.hu</td><td>imre1</td></tr>",
                            "<tr><td>Soós István</td><td>istvan@gmail.com</td><td>istvan</td></tr>",
                            "<tr><td>Vizi István</td><td>istván.vizi@mail.hu</td><td>istvan1</td></tr>",
                            "<tr><td>Varga István</td><td>ISTVANV@gmail.com</td><td>ISTVANV</td></tr>",
                            "<tr><td>Harangozó János</td><td>janos3@gmail.com</td><td>janos3</td></tr>",
                            "<tr><td>Giliga János</td><td>JANOSG@gmail.com</td><td>JANOSG</td></tr>",
                            "<tr><td>Pálinkás János</td><td>JANOSP@gmail.com</td><td>JANOSP</td></tr>",
                            "<tr><td>Gergely József</td><td>jozsef@gmail.com</td><td>jozsef</td></tr>",
                            "<tr><td>Vajda József</td><td>józsef.vajda@mail.hu</td><td>jozsef2</td></tr>",
                            "<tr><td>Hídasi Judit</td><td>JUDITH@gmail.com</td><td>JUDITH</td></tr>",
                            "<tr><td>Tóth Júlia</td><td>julia@gmail.com</td><td>julia</td></tr>",
                            "<tr><td>Nagy Júlia</td><td>julia4@gmail.com</td><td>julia4</td></tr>",
                            "<tr><td>Szabó Julianna</td><td>julianna4@gmail.com</td><td>julianna4</td></tr>",
                            "<tr><td>Gondos Katalin</td><td>katalin.gondos@mail.hu</td><td>kata</td></tr>",
                            "<tr><td>Horváth Katalin</td><td>katalin.horváth@mail.hu</td><td>katalin</td></tr>",
                            "<tr><td>Kertész Katalin</td><td>katalin4@gmail.com</td><td>katalin4</td></tr>",
                            "<tr><td>Kovács Katalin</td><td>katalin.kovács@mail.hu</td><td>katka</td></tr>",
                            "<tr><td>Bakó Klaudia</td><td>klaudia.bakó@mail.hu</td><td>klaudia2</td></tr>",
                            "<tr><td>Lukács Kornél</td><td>kornél.lukács@mail.hu</td><td>kornel4</td></tr>",
                            "<tr><td>Poprádi Kristóf</td><td>kristof4@gmail.com</td><td>kristof4</td></tr>",
                            "<tr><td>Horváth Krisztina</td><td>kriszti@gmail.com</td><td>kriszti</td></tr>",
                            "<tr><td>Czérna Krisztián</td><td>krisztián.czérna@mail.hu</td><td>krisztian4</td></tr>",
                            "<tr><td>Bori Krisztina</td><td>krisztina.bori@mail.hu</td><td>krisztina1</td></tr>",
                            "<tr><td>Gyárfás Krisztina</td><td>KRISZTINAG@gmail.com</td><td>KRISZTINAG</td></tr>",
                            "<tr><td>Kiss Lajos</td><td>lajos.kiss@mail.hu</td><td>lajos</td></tr>",
                            "<tr><td>Nagymihály Lajos</td><td>lajos.nagymihály@mail.hu</td><td>lala</td></tr>",
                            "<tr><td>Móra László</td><td>lászló.móra@mail.hu</td><td>laszlo2</td></tr>",
                            "<tr><td>Antal László</td><td>lászló.antal@mail.hu</td><td>LASZLOA</td></tr>",
                            "<tr><td>Nagy László</td><td>lászló.nagy@mail.hu</td><td>LASZLON</td></tr>",
                            "<tr><td>Baráth Mária</td><td>mária.baráth@mail.hu</td><td>maria1</td></tr>",
                            "<tr><td>Kispál Márk</td><td>márk.kispál@mail.hu</td><td>mark</td></tr>",
                            "<tr><td>Horváth Márk</td><td>márk.horváth@mail.hu</td><td>MARKH</td></tr>",
                            "<tr><td>Kalacsi Márton</td><td>marton@gmail.com</td><td>marton</td></tr>",
                            "<tr><td>Koza Máté</td><td>máté.koza@mail.hu</td><td>MATEK</td></tr>",
                            "<tr><td>Botka Mátyás</td><td>matyas2@gmail.com</td><td>matyas2</td></tr>",
                            "<tr><td>Szilágyi Mátyás</td><td>mátyás.szilágyi@mail.hu</td><td>MATYASS</td></tr>",
                            "<tr><td>Juhász Mihály</td><td>mihály.juhász@mail.hu</td><td>MIHALYJ</td></tr>",
                            "<tr><td>Gondos Miklós</td><td>miklos2@gmail.com</td><td>miklos2</td></tr>",
                            "<tr><td>Balla Miklós</td><td>miklós.balla@mail.hu</td><td>MIKLOSB</td></tr>",
                            "<tr><td>Mohos Mónika</td><td>mónika.mohos@mail.hu</td><td>MONIKAM</td></tr>",
                            "<tr><td>Fő Nándor</td><td>nándor.fő@mail.hu</td><td>NANDORF</td></tr>",
                            "<tr><td>Horváth Nikolett</td><td>nikolett3@gmail.com</td><td>nikolett3</td></tr>",
                            "<tr><td>Kő Nikoletta</td><td>nikoletta4@gmail.com</td><td>nikoletta4</td></tr>",
                            "<tr><td>Tatár Nikoletta</td><td>nikoletta.tatár@mail.hu</td><td>NIKOLETTAT</td></tr>",
                            "<tr><td>Szűcs Norbert</td><td>norbert@gmail.com</td><td>norbert</td></tr>",
                            "<tr><td>Hegedűs Norbert</td><td>norbert.hegedűs@mail.hu</td><td>norbert2</td></tr>",
                            "<tr><td>Mile Norbert</td><td>norbert4@gmail.com</td><td>norbert4</td></tr>",
                            "<tr><td>Béres Norbert</td><td>norbert5@gmail.com</td><td>norbert5</td></tr>",
                            "<tr><td>Barabás Pál</td><td>pál.barabás@mail.hu</td><td>pal</td></tr>",
                            "<tr><td>Kozma Péter</td><td>peter1@gmail.com</td><td>peter1</td></tr>",
                            "<tr><td>Bozsó Péter</td><td>peter2@gmail.com</td><td>peter2</td></tr>",
                            "<tr><td>Szalai Péter</td><td>peter3@gmail.com</td><td>peter3</td></tr>",
                            "<tr><td>Bíró Péter</td><td>péter.bíró@mail.hu</td><td>peter4</td></tr>",
                            "<tr><td>Berendi Péter</td><td>péter.berendi@mail.hu</td><td>PETERB</td></tr>",
                            "<tr><td>Palágyi Polla</td><td>polla@gmail.com</td><td>polla</td></tr>",
                            "<tr><td>Rácz Rajmond</td><td>rajmond.rácz@mail.hu</td><td>rajmond4</td></tr>",
                            "<tr><td>Szikszai Réka</td><td>réka.szikszai@mail.hu</td><td>reka4</td></tr>",
                            "<tr><td>Szirmai Renáta</td><td>RENATAS@gmail.com</td><td>RENATAS</td></tr>",
                            "<tr><td>Patay Róbert</td><td>robert2@gmail.com</td><td>robert2</td></tr>",
                            "<tr><td>Iván Róbert</td><td>róbert.iván@mail.hu</td><td>ROBERTI</td></tr>",
                            "<tr><td>Tóth Roland</td><td>roland@gmail.com</td><td>roland</td></tr>",
                            "<tr><td>Ferencz Roland</td><td>roland.ferencz@mail.hu</td><td>roland1</td></tr>",
                            "<tr><td>Bucskó Róza</td><td>roza2@gmail.com</td><td>roza2</td></tr>",
                            "<tr><td>Karasz Sándor</td><td>sandor@gmail.com</td><td>sandor</td></tr>",
                            "<tr><td>Farkas Sándor</td><td>sándor.farkas@mail.hu</td><td>sandor3</td></tr>",
                            "<tr><td>Nagy Sándor</td><td>sandor4@gmail.com</td><td>sandor4</td></tr>",
                            "<tr><td>Farkas Sára</td><td>sára.farkas@mail.hu</td><td>sara</td></tr>",
                            "<tr><td>Foltényi Sebastián</td><td>SEBASTIANF@gmail.com</td><td>SEBASTIANF</td></tr>",
                            "<tr><td>Rab Sebestyén</td><td>sebestyen@gmail.com</td><td>sebestyen</td></tr>",
                            "<tr><td>Miklós Szabolcs</td><td>szabolcs.miklós@mail.hu</td><td>SZABOLCSM</td></tr>",
                            "<tr><td>Szalai Szilárd</td><td>szilárd.szalai@mail.hu</td><td>SZILARDS</td></tr>",
                            "<tr><td>Tari Szilvia</td><td>szilvia.tari@mail.hu</td><td>szilvia1</td></tr>",
                            "<tr><td>Miklós Tamara</td><td>tamara.miklós@mail.hu</td><td>tamara2</td></tr>",
                            "<tr><td>Antal Tamás</td><td>tamás.antal@mail.hu</td><td>tamas</td></tr>",
                            "<tr><td>Fényes Tamás</td><td>TAMASF@gmail.com</td><td>TAMASF</td></tr>",
                            "<tr><td>Gombos Tibor</td><td>tibor.gombos@mail.hu</td><td>tibor</td></tr>",
                            "<tr><td>Kazy Tihamér</td><td>tihamér.kazy@mail.hu</td><td>tihamer</td></tr>",
                            "<tr><td>Dusha Tímea</td><td>tímea.dusha@mail.hu</td><td>timea2</td></tr>",
                            "<tr><td>Turcsik Tünde</td><td>tunde@gmail.com</td><td>tunde</td></tr>",
                            "<tr><td>Feró Valentin</td><td>valentin.feró@mail.hu</td><td>valentin</td></tr>",
                            "<tr><td>Tankó Veronika</td><td>veronika4@gmail.com</td><td>veronika4</td></tr>",
                            "<tr><td>Boros Vivien</td><td>vivien3@gmail.com</td><td>vivien3</td></tr>",
                            "<tr><td>Fodor Zoltán</td><td>zoltán.fodor@mail.hu</td><td>zoltan</td></tr>",
                            "<tr><td>Pintér Zoltán</td><td>zoltán.pintér@mail.hu</td><td>ZOLTANP</td></tr>",
                            "<tr><td>Tóth Zoltán</td><td>zoltán.tóth@mail.hu</td><td>ZOLTANT</td></tr>",
                            "<tr><td>Molnár Zsófi</td><td>zsofi1@gmail.com</td><td>zsofi1</td></tr>",
                            "<tr><td>Józsa Zsolt</td><td>ZSOLTJ@gmail.com</td><td>ZSOLTJ</td></tr>",
                            "<tr><td>Pusztai Zsuzsanna</td><td>zsuzsanna@gmail.com</td><td>zsuzsa</td></tr>",
                            "<tr><td>Varsányi Zsuzsa</td><td>zsuzsa.varsányi@mail.hu</td><td>zsuzsa3</td></tr>",
                            "<tr><td>Barta Zsuzsanna</td><td>zsuzsanna.barta@mail.hu</td><td>zsuzsanna</td></tr>",
                            "<tr><td>Vajda Zsuzsa</td><td>zsuzsa.vajda@mail.hu</td><td>ZSUZSAV</td></tr>",
                            "</table>"
                        ]
                    }
                }
            ],
            "execution_count": 13
        },
        {
            "cell_type": "code",
            "source": [
                "-- 2. feladat\r\n",
                "WITH max_csillagok AS (\r\n",
                "  SELECT HELY, MAX(CSILLAGOK_SZAMA) AS max_csillag\r\n",
                "  FROM SZALLASHELY\r\n",
                "  GROUP BY HELY\r\n",
                ")\r\n",
                "\r\n",
                "SELECT s.SZALLAS_ID, s.szallas_nev\r\n",
                "FROM SZALLASHELY s\r\n",
                "JOIN max_csillagok mc ON s.HELY = mc.HELY AND s.CSILLAGOK_SZAMA = mc.max_csillag;\r\n",
                ""
            ],
            "metadata": {
                "azdata_cell_guid": "dc070ac4-178c-45a7-91e7-61ed455dfe77",
                "language": "sql"
            },
            "outputs": [
                {
                    "output_type": "display_data",
                    "data": {
                        "text/html": "(11 rows affected)"
                    },
                    "metadata": {}
                },
                {
                    "output_type": "display_data",
                    "data": {
                        "text/html": "Total execution time: 00:00:00.006"
                    },
                    "metadata": {}
                },
                {
                    "output_type": "execute_result",
                    "metadata": {},
                    "execution_count": 28,
                    "data": {
                        "application/vnd.dataresource+json": {
                            "schema": {
                                "fields": [
                                    {
                                        "name": "SZALLAS_ID"
                                    },
                                    {
                                        "name": "szallas_nev"
                                    }
                                ]
                            },
                            "data": [
                                {
                                    "SZALLAS_ID": "17",
                                    "szallas_nev": "Szarvas Hotel"
                                },
                                {
                                    "SZALLAS_ID": "16",
                                    "szallas_nev": "Bagoly Hotel"
                                },
                                {
                                    "SZALLAS_ID": "3",
                                    "szallas_nev": "Fortuna Apartman"
                                },
                                {
                                    "SZALLAS_ID": "18",
                                    "szallas_nev": "Fortuna Apartman"
                                },
                                {
                                    "SZALLAS_ID": "19",
                                    "szallas_nev": "Nyárfás Vendégház"
                                },
                                {
                                    "SZALLAS_ID": "21",
                                    "szallas_nev": "Müller Vendégház"
                                },
                                {
                                    "SZALLAS_ID": "13",
                                    "szallas_nev": "Riviéra Panzió"
                                },
                                {
                                    "SZALLAS_ID": "10",
                                    "szallas_nev": "Lagúna Hotel"
                                },
                                {
                                    "SZALLAS_ID": "5",
                                    "szallas_nev": "Fortuna Panzió"
                                },
                                {
                                    "SZALLAS_ID": "11",
                                    "szallas_nev": "Partiszél Vendégház"
                                },
                                {
                                    "SZALLAS_ID": "8",
                                    "szallas_nev": "Hotel Három Hattyú"
                                }
                            ]
                        },
                        "text/html": [
                            "<table>",
                            "<tr><th>SZALLAS_ID</th><th>szallas_nev</th></tr>",
                            "<tr><td>17</td><td>Szarvas Hotel</td></tr>",
                            "<tr><td>16</td><td>Bagoly Hotel</td></tr>",
                            "<tr><td>3</td><td>Fortuna Apartman</td></tr>",
                            "<tr><td>18</td><td>Fortuna Apartman</td></tr>",
                            "<tr><td>19</td><td>Nyárfás Vendégház</td></tr>",
                            "<tr><td>21</td><td>Müller Vendégház</td></tr>",
                            "<tr><td>13</td><td>Riviéra Panzió</td></tr>",
                            "<tr><td>10</td><td>Lagúna Hotel</td></tr>",
                            "<tr><td>5</td><td>Fortuna Panzió</td></tr>",
                            "<tr><td>11</td><td>Partiszél Vendégház</td></tr>",
                            "<tr><td>8</td><td>Hotel Három Hattyú</td></tr>",
                            "</table>"
                        ]
                    }
                }
            ],
            "execution_count": 28
        },
        {
            "cell_type": "code",
            "source": [
                "-- 4. feladat\r\n",
                "select (   \r\n",
                "    CASE GROUPING(sza.SZALLAS_ID)\r\n",
                "    WHEN 0 THEN CAST(sza.SZALLAS_ID AS nvarchar)\r\n",
                "    WHEN 1 THEN 'Összesen' END\r\n",
                "),\r\n",
                "    sum(FELNOTT_SZAM + GYERMEK_SZAM)\r\n",
                "from szallashely sza join szoba szo ON sza.SZALLAS_ID = szo.SZALLAS_FK\r\n",
                "    join foglalas f on f.szoba_fk = szo.SZOBA_ID\r\n",
                "group by Rollup(sza.szallas_id, szo.potagy)"
            ],
            "metadata": {
                "azdata_cell_guid": "69090107-bd22-459a-8553-23d04d9d461d",
                "language": "sql",
                "tags": []
            },
            "outputs": [
                {
                    "output_type": "display_data",
                    "data": {
                        "text/html": "(44 rows affected)"
                    },
                    "metadata": {}
                },
                {
                    "output_type": "display_data",
                    "data": {
                        "text/html": "Total execution time: 00:00:00.010"
                    },
                    "metadata": {}
                },
                {
                    "output_type": "execute_result",
                    "metadata": {},
                    "execution_count": 33,
                    "data": {
                        "application/vnd.dataresource+json": {
                            "schema": {
                                "fields": [
                                    {
                                        "name": "(No column name)"
                                    },
                                    {
                                        "name": "(No column name)"
                                    }
                                ]
                            },
                            "data": [
                                {
                                    "(No column name)": "67"
                                },
                                {
                                    "(No column name)": "99"
                                },
                                {
                                    "(No column name)": "166"
                                },
                                {
                                    "(No column name)": "10"
                                },
                                {
                                    "(No column name)": "31"
                                },
                                {
                                    "(No column name)": "11"
                                },
                                {
                                    "(No column name)": "52"
                                },
                                {
                                    "(No column name)": "18"
                                },
                                {
                                    "(No column name)": "52"
                                },
                                {
                                    "(No column name)": "36"
                                },
                                {
                                    "(No column name)": "106"
                                },
                                {
                                    "(No column name)": "45"
                                },
                                {
                                    "(No column name)": "99"
                                },
                                {
                                    "(No column name)": "40"
                                },
                                {
                                    "(No column name)": "184"
                                },
                                {
                                    "(No column name)": "113"
                                },
                                {
                                    "(No column name)": "14"
                                },
                                {
                                    "(No column name)": "127"
                                },
                                {
                                    "(No column name)": "168"
                                },
                                {
                                    "(No column name)": "224"
                                },
                                {
                                    "(No column name)": "28"
                                },
                                {
                                    "(No column name)": "420"
                                },
                                {
                                    "(No column name)": "64"
                                },
                                {
                                    "(No column name)": "19"
                                },
                                {
                                    "(No column name)": "83"
                                },
                                {
                                    "(No column name)": "183"
                                },
                                {
                                    "(No column name)": "258"
                                },
                                {
                                    "(No column name)": "63"
                                },
                                {
                                    "(No column name)": "504"
                                },
                                {
                                    "(No column name)": "66"
                                },
                                {
                                    "(No column name)": "66"
                                },
                                {
                                    "(No column name)": "105"
                                },
                                {
                                    "(No column name)": "150"
                                },
                                {
                                    "(No column name)": "36"
                                },
                                {
                                    "(No column name)": "291"
                                },
                                {
                                    "(No column name)": "31"
                                },
                                {
                                    "(No column name)": "17"
                                },
                                {
                                    "(No column name)": "15"
                                },
                                {
                                    "(No column name)": "63"
                                },
                                {
                                    "(No column name)": "216"
                                },
                                {
                                    "(No column name)": "93"
                                },
                                {
                                    "(No column name)": "119"
                                },
                                {
                                    "(No column name)": "428"
                                },
                                {
                                    "(No column name)": "2490"
                                }
                            ]
                        },
                        "text/html": [
                            "<table>",
                            "<tr><th>(No column name)</th><th>(No column name)</th></tr>",
                            "<tr><td>1</td><td>67</td></tr>",
                            "<tr><td>1</td><td>99</td></tr>",
                            "<tr><td>1</td><td>166</td></tr>",
                            "<tr><td>2</td><td>10</td></tr>",
                            "<tr><td>2</td><td>31</td></tr>",
                            "<tr><td>2</td><td>11</td></tr>",
                            "<tr><td>2</td><td>52</td></tr>",
                            "<tr><td>3</td><td>18</td></tr>",
                            "<tr><td>3</td><td>52</td></tr>",
                            "<tr><td>3</td><td>36</td></tr>",
                            "<tr><td>3</td><td>106</td></tr>",
                            "<tr><td>4</td><td>45</td></tr>",
                            "<tr><td>4</td><td>99</td></tr>",
                            "<tr><td>4</td><td>40</td></tr>",
                            "<tr><td>4</td><td>184</td></tr>",
                            "<tr><td>5</td><td>113</td></tr>",
                            "<tr><td>5</td><td>14</td></tr>",
                            "<tr><td>5</td><td>127</td></tr>",
                            "<tr><td>6</td><td>168</td></tr>",
                            "<tr><td>6</td><td>224</td></tr>",
                            "<tr><td>6</td><td>28</td></tr>",
                            "<tr><td>6</td><td>420</td></tr>",
                            "<tr><td>7</td><td>64</td></tr>",
                            "<tr><td>7</td><td>19</td></tr>",
                            "<tr><td>7</td><td>83</td></tr>",
                            "<tr><td>8</td><td>183</td></tr>",
                            "<tr><td>8</td><td>258</td></tr>",
                            "<tr><td>8</td><td>63</td></tr>",
                            "<tr><td>8</td><td>504</td></tr>",
                            "<tr><td>9</td><td>66</td></tr>",
                            "<tr><td>9</td><td>66</td></tr>",
                            "<tr><td>10</td><td>105</td></tr>",
                            "<tr><td>10</td><td>150</td></tr>",
                            "<tr><td>10</td><td>36</td></tr>",
                            "<tr><td>10</td><td>291</td></tr>",
                            "<tr><td>11</td><td>31</td></tr>",
                            "<tr><td>11</td><td>17</td></tr>",
                            "<tr><td>11</td><td>15</td></tr>",
                            "<tr><td>11</td><td>63</td></tr>",
                            "<tr><td>12</td><td>216</td></tr>",
                            "<tr><td>12</td><td>93</td></tr>",
                            "<tr><td>12</td><td>119</td></tr>",
                            "<tr><td>12</td><td>428</td></tr>",
                            "<tr><td>Összesen</td><td>2490</td></tr>",
                            "</table>"
                        ]
                    }
                }
            ],
            "execution_count": 33
        },
        {
            "cell_type": "code",
            "source": [
                "-- 5. feladat Különböző értékek száma:\r\n",
                "SELECT COUNT(DISTINCT Ferohely) AS Kulonbozo_Ertekek_Szama\r\n",
                "FROM Szoba\r\n",
                ""
            ],
            "metadata": {
                "azdata_cell_guid": "a4f46b9f-a634-41f4-9c0c-d75e38b137f6",
                "language": "sql"
            },
            "outputs": [
                {
                    "output_type": "display_data",
                    "data": {
                        "text/html": "(1 row affected)"
                    },
                    "metadata": {}
                },
                {
                    "output_type": "display_data",
                    "data": {
                        "text/html": "Total execution time: 00:00:00.006"
                    },
                    "metadata": {}
                },
                {
                    "output_type": "execute_result",
                    "metadata": {},
                    "execution_count": 34,
                    "data": {
                        "application/vnd.dataresource+json": {
                            "schema": {
                                "fields": [
                                    {
                                        "name": "Kulonbozo_Ertekek_Szama"
                                    }
                                ]
                            },
                            "data": [
                                {
                                    "Kulonbozo_Ertekek_Szama": "4"
                                }
                            ]
                        },
                        "text/html": [
                            "<table>",
                            "<tr><th>Kulonbozo_Ertekek_Szama</th></tr>",
                            "<tr><td>4</td></tr>",
                            "</table>"
                        ]
                    }
                }
            ],
            "execution_count": 34
        },
        {
            "cell_type": "code",
            "source": [
                "-- 5. feladat Minimum, maximum, átlag\r\n",
                "SELECT MIN(Ferohely) AS Minimum, MAX(Ferohely) AS Maximum, AVG(Ferohely) AS Atlag\r\n",
                "FROM Szoba"
            ],
            "metadata": {
                "azdata_cell_guid": "7f99b73b-695e-48be-9708-e90d7c843d77",
                "language": "sql"
            },
            "outputs": [
                {
                    "output_type": "display_data",
                    "data": {
                        "text/html": "(1 row affected)"
                    },
                    "metadata": {}
                },
                {
                    "output_type": "display_data",
                    "data": {
                        "text/html": "Total execution time: 00:00:00.006"
                    },
                    "metadata": {}
                },
                {
                    "output_type": "execute_result",
                    "metadata": {},
                    "execution_count": 35,
                    "data": {
                        "application/vnd.dataresource+json": {
                            "schema": {
                                "fields": [
                                    {
                                        "name": "Minimum"
                                    },
                                    {
                                        "name": "Maximum"
                                    },
                                    {
                                        "name": "Atlag"
                                    }
                                ]
                            },
                            "data": [
                                {
                                    "Minimum": "1",
                                    "Maximum": "4",
                                    "Atlag": "2"
                                }
                            ]
                        },
                        "text/html": [
                            "<table>",
                            "<tr><th>Minimum</th><th>Maximum</th><th>Atlag</th></tr>",
                            "<tr><td>1</td><td>4</td><td>2</td></tr>",
                            "</table>"
                        ]
                    }
                }
            ],
            "execution_count": 35
        },
        {
            "cell_type": "code",
            "source": [
                "-- 5. feladat Null és Not null értékek százalékos aránya\r\n",
                "SELECT\r\n",
                "    (COUNT(Ferohely) - COUNT(CASE WHEN Ferohely IS NULL THEN 1 END)) / COUNT(Ferohely) * 100 AS Not_Null_Szazalek,\r\n",
                "    COUNT(CASE WHEN Ferohely IS NULL THEN 1 END) / COUNT(Ferohely) * 100 AS Null_Szazalek\r\n",
                "FROM Szoba\r\n",
                ""
            ],
            "metadata": {
                "azdata_cell_guid": "12640867-48be-4eda-9d5e-af0fd8cab3bf",
                "language": "sql"
            },
            "outputs": [
                {
                    "output_type": "display_data",
                    "data": {
                        "text/html": "Warning: Null value is eliminated by an aggregate or other SET operation."
                    },
                    "metadata": {}
                },
                {
                    "output_type": "display_data",
                    "data": {
                        "text/html": "(1 row affected)"
                    },
                    "metadata": {}
                },
                {
                    "output_type": "display_data",
                    "data": {
                        "text/html": "Total execution time: 00:00:00.007"
                    },
                    "metadata": {}
                },
                {
                    "output_type": "execute_result",
                    "metadata": {},
                    "execution_count": 42,
                    "data": {
                        "application/vnd.dataresource+json": {
                            "schema": {
                                "fields": [
                                    {
                                        "name": "Not_Null_Szazalek"
                                    },
                                    {
                                        "name": "Null_Szazalek"
                                    }
                                ]
                            },
                            "data": [
                                {
                                    "Not_Null_Szazalek": "100",
                                    "Null_Szazalek": "0"
                                }
                            ]
                        },
                        "text/html": [
                            "<table>",
                            "<tr><th>Not_Null_Szazalek</th><th>Null_Szazalek</th></tr>",
                            "<tr><td>100</td><td>0</td></tr>",
                            "</table>"
                        ]
                    }
                }
            ],
            "execution_count": 42
        },
        {
            "cell_type": "code",
            "source": [
                ""
            ],
            "metadata": {
                "azdata_cell_guid": "553c8255-ba51-4a73-9c25-20ec3a290909",
                "language": "sql"
            },
            "outputs": [],
            "execution_count": null
        },
        {
            "cell_type": "markdown",
            "source": [
                "6\\. feladat Redis parancsok:\n",
                "\n",
                "SET könyvtár\\_neve \"Könyvtár neve\"  \n",
                "\n",
                "HSET könyv1 cím \"A gyűrűk ura\" szerző \"J.R.R. Tolkien\" kiadás \"1954-1955\"  \n",
                "\n",
                "SADD könyvtár\\_műfajai \"Regény\" \"Fantasy\" \"Kaland\"  \n",
                "\n",
                "RPUSH kikölcsönzött\\_könyvek \"A kővendég\" \"Bűn és büntetés\" \"Hamlet\"  \n",
                "\n",
                "ZADD kölcsönzések\\_száma 10 \"A kővendég\" \n",
                "\n",
                "ZADD kölcsönzések\\_száma 5 \"Bűn és büntetés\" \n",
                "\n",
                "ZADD kölcsönzések\\_száma 3 \"Hamlet\""
            ],
            "metadata": {
                "azdata_cell_guid": "39084a79-cc38-4f99-ae73-eb8f62b74275"
            },
            "attachments": {}
        },
        {
            "cell_type": "markdown",
            "source": [
                "7\\. feladat cassandra parancsok\n",
                "\n",
                "CREATE TABLE STUDENT ( ID int PRIMARY KEY, Nev text, Teljesitett\\_felevek list\\<int\\>, Eredmenyek map\\<int, float\\>, Nyelvtudas set\\<text\\> );\n",
                "\n",
                "  \n",
                "\n",
                "INSERT INTO STUDENT (ID, Nev, Teljesitett\\_felevek, Eredmenyek, Nyelvtudas)\n",
                "\n",
                "VALUES (1, 'Kiss Péter', \\[1, 2, 3\\], {1: 3.00, 2: 4.55, 3: 4.10}, {'angol', 'német', 'francia'});\n",
                "\n",
                "  \n",
                "\n",
                "INSERT INTO STUDENT (ID, Nev, Teljesitett\\_felevek, Eredmenyek, Nyelvtudas)\n",
                "\n",
                "VALUES (2, 'Nagy Anna', \\[2, 3, 4\\], {2: 4.20, 3: 4.85, 4: 5.00}, {'angol', 'spanyol', 'olasz'});"
            ],
            "metadata": {
                "azdata_cell_guid": "6bedf7bd-83ac-4e87-ad5d-c4bb5727c681"
            },
            "attachments": {}
        }
    ]
}